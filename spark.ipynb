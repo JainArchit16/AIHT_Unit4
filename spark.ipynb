{
  "cells": [
    {
      "cell_type": "code",
      "source": [
        "!pip install kagglehub\n",
        "!pip install findspark"
      ],
      "metadata": {
        "colab": {
          "base_uri": "https://localhost:8080/"
        },
        "collapsed": true,
        "id": "Lq2IpR5RnMqq",
        "outputId": "d9a5c841-9f47-4dbe-c04b-1dd37d7aa6b9"
      },
      "execution_count": null,
      "outputs": [
        {
          "output_type": "stream",
          "name": "stdout",
          "text": [
            "Requirement already satisfied: kagglehub in /usr/local/lib/python3.11/dist-packages (0.3.10)\n",
            "Requirement already satisfied: packaging in /usr/local/lib/python3.11/dist-packages (from kagglehub) (24.2)\n",
            "Requirement already satisfied: pyyaml in /usr/local/lib/python3.11/dist-packages (from kagglehub) (6.0.2)\n",
            "Requirement already satisfied: requests in /usr/local/lib/python3.11/dist-packages (from kagglehub) (2.32.3)\n",
            "Requirement already satisfied: tqdm in /usr/local/lib/python3.11/dist-packages (from kagglehub) (4.67.1)\n",
            "Requirement already satisfied: charset-normalizer<4,>=2 in /usr/local/lib/python3.11/dist-packages (from requests->kagglehub) (3.4.1)\n",
            "Requirement already satisfied: idna<4,>=2.5 in /usr/local/lib/python3.11/dist-packages (from requests->kagglehub) (3.10)\n",
            "Requirement already satisfied: urllib3<3,>=1.21.1 in /usr/local/lib/python3.11/dist-packages (from requests->kagglehub) (2.3.0)\n",
            "Requirement already satisfied: certifi>=2017.4.17 in /usr/local/lib/python3.11/dist-packages (from requests->kagglehub) (2025.1.31)\n",
            "Collecting findspark\n",
            "  Downloading findspark-2.0.1-py2.py3-none-any.whl.metadata (352 bytes)\n",
            "Downloading findspark-2.0.1-py2.py3-none-any.whl (4.4 kB)\n",
            "Installing collected packages: findspark\n",
            "Successfully installed findspark-2.0.1\n"
          ]
        }
      ]
    },
    {
      "cell_type": "code",
      "execution_count": null,
      "metadata": {
        "id": "JncvR1Nvl_fQ"
      },
      "outputs": [],
      "source": [
        "import findspark\n",
        "findspark.init()\n",
        "import pyspark"
      ]
    },
    {
      "cell_type": "code",
      "source": [
        "import kagglehub\n",
        "\n",
        "# Download latest version\n",
        "path = kagglehub.dataset_download(\"rohanrao/air-quality-data-in-india\")\n",
        "path += \"/city_day.csv\"\n",
        "print(\"Path to dataset:\", path)"
      ],
      "metadata": {
        "colab": {
          "base_uri": "https://localhost:8080/"
        },
        "id": "Bn1eXSOknYJh",
        "outputId": "511693ac-25ca-4978-f606-e7b450642d00"
      },
      "execution_count": null,
      "outputs": [
        {
          "output_type": "stream",
          "name": "stdout",
          "text": [
            "Warning: Looks like you're using an outdated `kagglehub` version (installed: 0.3.10), please consider upgrading to the latest version (0.3.11).\n",
            "Path to dataset: /root/.cache/kagglehub/datasets/rohanrao/air-quality-data-in-india/versions/12/city_day.csv\n"
          ]
        }
      ]
    },
    {
      "cell_type": "code",
      "execution_count": null,
      "metadata": {
        "id": "hrujAECfl_fT"
      },
      "outputs": [],
      "source": [
        "from pyspark.ml.feature import VectorAssembler\n",
        "from pyspark.sql import SparkSession\n",
        "from pyspark.sql import SQLContext\n",
        "\n",
        "\n",
        "appName = \"Air Quality India\"\n",
        "spark = SparkSession \\\n",
        ".builder \\\n",
        ".appName(appName) \\\n",
        ".config(\"spark.some.config.option\", \"some-value\") \\\n",
        ".getOrCreate()"
      ]
    },
    {
      "cell_type": "code",
      "execution_count": null,
      "metadata": {
        "id": "yn8tDc2Bl_fU"
      },
      "outputs": [],
      "source": [
        "sc = spark.sparkContext"
      ]
    },
    {
      "cell_type": "code",
      "execution_count": null,
      "metadata": {
        "id": "4Guk4UNal_fV"
      },
      "outputs": [],
      "source": [
        "df = spark.read.options(\n",
        "    delimiter=',',     # Use comma instead of semicolon\n",
        "    inferSchema=True,  # Auto-detect data types\n",
        "    header=True        # Use first row as column names\n",
        ").csv(path)"
      ]
    },
    {
      "cell_type": "code",
      "source": [
        "df = df.withColumnRenamed(\"PM2.5\", \"PM25\")"
      ],
      "metadata": {
        "id": "0gx3Xbkz4puq"
      },
      "execution_count": null,
      "outputs": []
    },
    {
      "cell_type": "code",
      "source": [
        "df.printSchema()"
      ],
      "metadata": {
        "id": "KMzgUwW4o1WX",
        "colab": {
          "base_uri": "https://localhost:8080/"
        },
        "outputId": "11939f80-8481-4675-c340-7b82d1afcfd7"
      },
      "execution_count": null,
      "outputs": [
        {
          "output_type": "stream",
          "name": "stdout",
          "text": [
            "root\n",
            " |-- City: string (nullable = true)\n",
            " |-- Date: date (nullable = true)\n",
            " |-- PM25: double (nullable = true)\n",
            " |-- PM10: double (nullable = true)\n",
            " |-- NO: double (nullable = true)\n",
            " |-- NO2: double (nullable = true)\n",
            " |-- NOx: double (nullable = true)\n",
            " |-- NH3: double (nullable = true)\n",
            " |-- CO: double (nullable = true)\n",
            " |-- SO2: double (nullable = true)\n",
            " |-- O3: double (nullable = true)\n",
            " |-- Benzene: double (nullable = true)\n",
            " |-- Toluene: double (nullable = true)\n",
            " |-- Xylene: double (nullable = true)\n",
            " |-- AQI: double (nullable = true)\n",
            " |-- AQI_Bucket: string (nullable = true)\n",
            "\n"
          ]
        }
      ]
    },
    {
      "cell_type": "code",
      "source": [
        "df = df.dropna(how=\"any\")"
      ],
      "metadata": {
        "id": "88mVyqyRqS4H"
      },
      "execution_count": null,
      "outputs": []
    },
    {
      "cell_type": "code",
      "execution_count": null,
      "metadata": {
        "id": "4B1rUkjxl_fY",
        "outputId": "580c5555-7a0b-4b09-ce7c-3b347001bab0",
        "colab": {
          "base_uri": "https://localhost:8080/"
        }
      },
      "outputs": [
        {
          "output_type": "stream",
          "name": "stdout",
          "text": [
            "+-------+-------------+------------------+------------------+------------------+-----------------+------------------+------------------+------------------+------------------+------------------+-----------------+------------------+-----------------+------------------+----------+\n",
            "|summary|         City|              PM25|              PM10|                NO|              NO2|               NOx|               NH3|                CO|               SO2|                O3|          Benzene|           Toluene|           Xylene|               AQI|AQI_Bucket|\n",
            "+-------+-------------+------------------+------------------+------------------+-----------------+------------------+------------------+------------------+------------------+------------------+-----------------+------------------+-----------------+------------------+----------+\n",
            "|  count|         6236|              6236|              6236|              6236|             6236|              6236|              6236|              6236|              6236|              6236|             6236|              6236|             6236|              6236|      6236|\n",
            "|   mean|         NULL|61.327365298267985|123.41832103912789|17.015190827453527|31.70818954457989|32.448956061577874|20.737070237331643|0.9843441308531109|11.514425914047477| 36.12769082745342|3.700360808210408|10.323696279666425|2.557439063502251|140.51010262989095|      NULL|\n",
            "| stddev|         NULL|  53.7096817795298| 85.79149128922826| 20.03783579140608|18.78404148922161|27.388129332040407|16.088215496025306| 1.356160721805239| 7.166112615302667|19.553694612088666|5.062159298000114|12.287222837250306| 4.53505968555417| 92.73882614020263|      NULL|\n",
            "|    min|    Amaravati|               2.0|               7.8|              0.25|             0.17|              0.17|              0.12|               0.0|              0.71|              1.55|              0.0|               0.0|              0.0|              23.0|      Good|\n",
            "|    max|Visakhapatnam|            639.19|            796.88|            159.22|           140.17|            224.09|             166.7|             16.23|             70.39|            162.33|            64.44|             103.0|           125.18|             677.0| Very Poor|\n",
            "+-------+-------------+------------------+------------------+------------------+-----------------+------------------+------------------+------------------+------------------+------------------+-----------------+------------------+-----------------+------------------+----------+\n",
            "\n"
          ]
        }
      ],
      "source": [
        "df.describe().show()"
      ]
    },
    {
      "cell_type": "code",
      "source": [
        "df.select(\"AQI_Bucket\").distinct().show() #bombardilo crocodili"
      ],
      "metadata": {
        "id": "qcWHnqNio3cl",
        "colab": {
          "base_uri": "https://localhost:8080/"
        },
        "outputId": "36c40e90-7502-4ac5-8055-2834af3fd941"
      },
      "execution_count": null,
      "outputs": [
        {
          "output_type": "stream",
          "name": "stdout",
          "text": [
            "+------------+\n",
            "|  AQI_Bucket|\n",
            "+------------+\n",
            "|        Good|\n",
            "|      Severe|\n",
            "|   Very Poor|\n",
            "|Satisfactory|\n",
            "|        Poor|\n",
            "|    Moderate|\n",
            "+------------+\n",
            "\n"
          ]
        }
      ]
    },
    {
      "cell_type": "code",
      "execution_count": null,
      "metadata": {
        "id": "kk3tRz5Pl_fa"
      },
      "outputs": [],
      "source": [
        "from pyspark.sql.functions import udf, rand\n",
        "from pyspark.sql.types import StringType, DoubleType"
      ]
    },
    {
      "cell_type": "code",
      "execution_count": null,
      "metadata": {
        "id": "Syql9XQtl_fa",
        "outputId": "cc38f8c1-0705-4eb4-8eb6-3edcb40b120c",
        "colab": {
          "base_uri": "https://localhost:8080/"
        }
      },
      "outputs": [
        {
          "output_type": "stream",
          "name": "stdout",
          "text": [
            "+---------+----------+-----+------+----+-----+-----+-----+----+-----+------+-------+-------+------+----------+\n",
            "|     City|      Date| PM25|  PM10|  NO|  NO2|  NOx|  NH3|  CO|  SO2|    O3|Benzene|Toluene|Xylene|AQI_Bucket|\n",
            "+---------+----------+-----+------+----+-----+-----+-----+----+-----+------+-------+-------+------+----------+\n",
            "|Amaravati|2017-11-25| 81.4| 124.5|1.44| 20.5|12.08|10.72|0.12|15.24|127.09|    0.2|    6.5|  0.06|  Moderate|\n",
            "|Amaravati|2017-11-26|78.32|129.06|1.26| 26.0|14.85|10.28|0.14|26.96|117.44|   0.22|   7.95|  0.08|  Moderate|\n",
            "|Amaravati|2017-11-27|88.76|135.32| 6.6|30.85|21.77|12.91|0.11|33.59|111.81|   0.29|   7.63|  0.12|  Moderate|\n",
            "|Amaravati|2017-11-28|64.18|104.09|2.56|28.07|17.01|11.42|0.09| 19.0|138.18|   0.17|   5.02|  0.07|  Moderate|\n",
            "|Amaravati|2017-11-29|72.47|114.84|5.23| 23.2|16.59|12.25|0.16|10.55|109.74|   0.21|   4.71|  0.08|  Moderate|\n",
            "+---------+----------+-----+------+----+-----+-----+-----+----+-----+------+-------+-------+------+----------+\n",
            "only showing top 5 rows\n",
            "\n"
          ]
        }
      ],
      "source": [
        "df = df.withColumn(\"NO\", df[\"NO\"].cast('double'))\n",
        "df = df.withColumn(\"NOx\", df[\"NOx\"].cast('double'))\n",
        "df = df.withColumn(\"NH3\", df[\"NH3\"].cast('double'))\n",
        "df = df.withColumn(\"CO\", df[\"CO\"].cast('double'))\n",
        "df = df.withColumn(\"SO2\", df[\"SO2\"].cast('double'))\n",
        "df = df.withColumn(\"Benzene\", df[\"Benzene\"].cast('double'))\n",
        "df = df.withColumn(\"Xylene\", df[\"Xylene\"].cast('double'))\n",
        "df = df.withColumn(\"Toluene\", df[\"Toluene\"].cast('double'))\n",
        "df = df.withColumn(\"NO2\", df[\"NO2\"].cast('double'))\n",
        "df = df.withColumn(\"O3\", df[\"O3\"].cast('double'))\n",
        "df = df.withColumn(\"PM10\", df[\"PM10\"].cast('double'))\n",
        "df = df.withColumn(\"PM25\", df[\"PM25\"].cast('double'))\n",
        "df = df.drop(\"AQI\")\n",
        "\n",
        "df.show(5)"
      ]
    },
    {
      "cell_type": "code",
      "execution_count": null,
      "metadata": {
        "id": "lnX-CjpUl_fc",
        "outputId": "e2713467-6fe1-40c3-d5f9-10b84ad6cd34",
        "colab": {
          "base_uri": "https://localhost:8080/"
        }
      },
      "outputs": [
        {
          "output_type": "stream",
          "name": "stdout",
          "text": [
            "root\n",
            " |-- City: string (nullable = true)\n",
            " |-- Date: date (nullable = true)\n",
            " |-- PM25: double (nullable = true)\n",
            " |-- PM10: double (nullable = true)\n",
            " |-- NO: double (nullable = true)\n",
            " |-- NO2: double (nullable = true)\n",
            " |-- NOx: double (nullable = true)\n",
            " |-- NH3: double (nullable = true)\n",
            " |-- CO: double (nullable = true)\n",
            " |-- SO2: double (nullable = true)\n",
            " |-- O3: double (nullable = true)\n",
            " |-- Benzene: double (nullable = true)\n",
            " |-- Toluene: double (nullable = true)\n",
            " |-- Xylene: double (nullable = true)\n",
            " |-- AQI_Bucket: string (nullable = true)\n",
            "\n"
          ]
        }
      ],
      "source": [
        "df.printSchema()"
      ]
    },
    {
      "cell_type": "code",
      "execution_count": null,
      "metadata": {
        "id": "VJKTTj1sl_fd"
      },
      "outputs": [],
      "source": [
        "from pyspark.ml import Pipeline\n",
        "from pyspark.ml.feature import StringIndexer, OneHotEncoder, VectorAssembler\n",
        "from pyspark.sql.functions import col\n",
        "\n",
        "def get_dummy(df, indexCol, categoricalCols, continuousCols, labelCol):\n",
        "    stages = []\n",
        "\n",
        "    # Handle categorical features if any\n",
        "    if categoricalCols:\n",
        "        indexers = [StringIndexer(inputCol=c, outputCol=f\"{c}_indexed\", handleInvalid=\"keep\") for c in categoricalCols]\n",
        "        encoders = [OneHotEncoder(inputCol=f\"{c}_indexed\", outputCol=f\"{c}_encoded\") for c in categoricalCols]\n",
        "        stages += indexers + encoders\n",
        "        feature_cols = [f\"{c}_encoded\" for c in categoricalCols] + continuousCols\n",
        "    else:\n",
        "        feature_cols = continuousCols  # Only continuous features if no categorical columns\n",
        "\n",
        "    # Assemble features\n",
        "    assembler = VectorAssembler(inputCols=feature_cols, outputCol=\"features\")\n",
        "    stages.append(assembler)\n",
        "\n",
        "    # Create pipeline and transform\n",
        "    pipeline = Pipeline(stages=stages)\n",
        "    model = pipeline.fit(df)\n",
        "    transformed_df = model.transform(df)\n",
        "\n",
        "    # Ensure label column is cast properly\n",
        "    transformed_df = transformed_df.withColumn(\"label\", col(labelCol).cast(\"double\"))\n",
        "\n",
        "    return transformed_df.select(indexCol, \"features\", \"label\")"
      ]
    },
    {
      "cell_type": "code",
      "execution_count": null,
      "metadata": {
        "id": "uWt_MyyTl_fd"
      },
      "outputs": [],
      "source": [
        "from pyspark.ml.linalg import Vectors\n",
        "from pyspark.ml import Pipeline\n",
        "from pyspark.ml.feature import IndexToString,StringIndexer, VectorIndexer\n",
        "from pyspark.ml.tuning import CrossValidator, ParamGridBuilder\n",
        "from pyspark.ml.evaluation import MulticlassClassificationEvaluator\n",
        "\n",
        "def transData(data):\n",
        "    print(data)\n",
        "    return data.rdd.map(lambda r: [Vectors.dense(r[2:-1]),r[-1]]).toDF(['features','label'])"
      ]
    },
    {
      "cell_type": "code",
      "execution_count": null,
      "metadata": {
        "id": "uZE8_Ossl_fe",
        "outputId": "72601b64-a900-4e76-85e6-eba16564eedc",
        "colab": {
          "base_uri": "https://localhost:8080/"
        }
      },
      "outputs": [
        {
          "output_type": "stream",
          "name": "stdout",
          "text": [
            "+--------------------+--------+\n",
            "|            features|   label|\n",
            "+--------------------+--------+\n",
            "|[81.4,124.5,1.44,...|Moderate|\n",
            "|[78.32,129.06,1.2...|Moderate|\n",
            "|[88.76,135.32,6.6...|Moderate|\n",
            "|[64.18,104.09,2.5...|Moderate|\n",
            "|[72.47,114.84,5.2...|Moderate|\n",
            "+--------------------+--------+\n",
            "only showing top 5 rows\n",
            "\n"
          ]
        }
      ],
      "source": [
        "transformed = transData(df)\n",
        "transformed.show(5)"
      ]
    },
    {
      "cell_type": "code",
      "execution_count": null,
      "metadata": {
        "id": "hSrznGYnl_ff",
        "outputId": "7293f45c-8f9a-448c-b0da-abcda15c6b6b",
        "colab": {
          "base_uri": "https://localhost:8080/"
        }
      },
      "outputs": [
        {
          "output_type": "stream",
          "name": "stdout",
          "text": [
            "+--------------------+--------+------------+\n",
            "|            features|   label|indexedLabel|\n",
            "+--------------------+--------+------------+\n",
            "|[81.4,124.5,1.44,...|Moderate|         0.0|\n",
            "|[78.32,129.06,1.2...|Moderate|         0.0|\n",
            "|[88.76,135.32,6.6...|Moderate|         0.0|\n",
            "|[64.18,104.09,2.5...|Moderate|         0.0|\n",
            "|[72.47,114.84,5.2...|Moderate|         0.0|\n",
            "+--------------------+--------+------------+\n",
            "only showing top 5 rows\n",
            "\n"
          ]
        }
      ],
      "source": [
        "labelIndexer = StringIndexer(inputCol='label',\n",
        "                             outputCol='indexedLabel').fit(transformed)\n",
        "labelIndexer.transform(transformed).show(5)"
      ]
    },
    {
      "cell_type": "code",
      "execution_count": null,
      "metadata": {
        "id": "ciSB1Ytjl_ff",
        "outputId": "97c60ea7-70fb-47ec-d8ac-63501a1d34e2",
        "colab": {
          "base_uri": "https://localhost:8080/"
        }
      },
      "outputs": [
        {
          "output_type": "stream",
          "name": "stdout",
          "text": [
            "+--------------------+--------+--------------------+\n",
            "|            features|   label|     indexedFeatures|\n",
            "+--------------------+--------+--------------------+\n",
            "|[81.4,124.5,1.44,...|Moderate|[81.4,124.5,1.44,...|\n",
            "|[78.32,129.06,1.2...|Moderate|[78.32,129.06,1.2...|\n",
            "|[88.76,135.32,6.6...|Moderate|[88.76,135.32,6.6...|\n",
            "|[64.18,104.09,2.5...|Moderate|[64.18,104.09,2.5...|\n",
            "|[72.47,114.84,5.2...|Moderate|[72.47,114.84,5.2...|\n",
            "+--------------------+--------+--------------------+\n",
            "only showing top 5 rows\n",
            "\n"
          ]
        }
      ],
      "source": [
        "# Automatically identify categorical features, and index them.\n",
        "# Set maxCategories so features with > 4 distinct values are treated as continuous.\n",
        "featureIndexer =VectorIndexer(inputCol=\"features\", \\\n",
        "                              outputCol=\"indexedFeatures\", \\\n",
        "                              maxCategories=4).fit(transformed)\n",
        "featureIndexer.transform(transformed).show(5)"
      ]
    },
    {
      "cell_type": "code",
      "execution_count": null,
      "metadata": {
        "id": "YA2_kGeFl_fg",
        "outputId": "9f5527f0-a1f8-40c7-b74b-56e131948c24",
        "colab": {
          "base_uri": "https://localhost:8080/"
        }
      },
      "outputs": [
        {
          "output_type": "stream",
          "name": "stdout",
          "text": [
            "+--------------------+------------+\n",
            "|            features|       label|\n",
            "+--------------------+------------+\n",
            "|[4.65,12.76,1.48,...|        Good|\n",
            "|[4.7,12.83,1.66,1...|        Good|\n",
            "|[5.08,8.16,13.55,...|Satisfactory|\n",
            "|[5.29,17.65,6.04,...|Satisfactory|\n",
            "|[5.56,11.67,8.02,...|        Good|\n",
            "+--------------------+------------+\n",
            "only showing top 5 rows\n",
            "\n",
            "+--------------------+------------+\n",
            "|            features|       label|\n",
            "+--------------------+------------+\n",
            "|[2.0,17.99,1.29,1...|        Good|\n",
            "|[7.0,7.8,1.7,7.66...|Satisfactory|\n",
            "|[7.3,32.25,3.85,6...|        Good|\n",
            "|[7.45,20.5,3.99,8...|Satisfactory|\n",
            "|[7.53,24.18,2.74,...|        Good|\n",
            "+--------------------+------------+\n",
            "only showing top 5 rows\n",
            "\n"
          ]
        }
      ],
      "source": [
        "(trainingData, testData) = transformed.randomSplit([0.8, 0.2])\n",
        "\n",
        "trainingData.show(5)\n",
        "testData.show(5)"
      ]
    },
    {
      "cell_type": "code",
      "execution_count": null,
      "metadata": {
        "id": "ONtXyURWl_fh"
      },
      "outputs": [],
      "source": [
        "from pyspark.ml.classification import RandomForestClassifier\n",
        "rf = RandomForestClassifier(featuresCol='indexedFeatures', labelCol='indexedLabel')"
      ]
    },
    {
      "cell_type": "code",
      "execution_count": null,
      "metadata": {
        "id": "GElpi5RXl_fi"
      },
      "outputs": [],
      "source": [
        "# Convert indexed labels back to original labels.\n",
        "labelConverter = IndexToString(inputCol=\"prediction\", outputCol=\"predictedLabel\",\n",
        "                               labels=labelIndexer.labels)"
      ]
    },
    {
      "cell_type": "code",
      "execution_count": null,
      "metadata": {
        "id": "P8CwQQ1Pl_fi"
      },
      "outputs": [],
      "source": [
        "# Chain indexers and tree in a Pipeline\n",
        "pipeline = Pipeline(stages=[labelIndexer, featureIndexer, rf,labelConverter])"
      ]
    },
    {
      "cell_type": "code",
      "execution_count": null,
      "metadata": {
        "id": "u_AzaTBol_fi"
      },
      "outputs": [],
      "source": [
        "# Train model.  This also runs the indexers.\n",
        "model = pipeline.fit(trainingData)"
      ]
    },
    {
      "cell_type": "code",
      "execution_count": null,
      "metadata": {
        "id": "8NgZhcdZl_fj",
        "outputId": "8a95d8e9-852d-4aa6-fcc8-99d7bffe0958",
        "colab": {
          "base_uri": "https://localhost:8080/"
        }
      },
      "outputs": [
        {
          "output_type": "stream",
          "name": "stdout",
          "text": [
            "+--------------------+------------+--------------+\n",
            "|            features|       label|predictedLabel|\n",
            "+--------------------+------------+--------------+\n",
            "|[2.0,17.99,1.29,1...|        Good|          Good|\n",
            "|[7.0,7.8,1.7,7.66...|Satisfactory|          Good|\n",
            "|[7.3,32.25,3.85,6...|        Good|          Good|\n",
            "|[7.45,20.5,3.99,8...|Satisfactory|          Good|\n",
            "|[7.53,24.18,2.74,...|        Good|          Good|\n",
            "+--------------------+------------+--------------+\n",
            "only showing top 5 rows\n",
            "\n"
          ]
        }
      ],
      "source": [
        "# Make predictions.\n",
        "predictions = model.transform(testData)\n",
        "# Select example rows to display.\n",
        "predictions.select(\"features\",\"label\",\"predictedLabel\").show(5)"
      ]
    },
    {
      "cell_type": "code",
      "execution_count": null,
      "metadata": {
        "id": "T_1ypxUIl_fj",
        "outputId": "2d6d4c9e-4eb7-44b5-cc86-d264d139624d",
        "colab": {
          "base_uri": "https://localhost:8080/"
        }
      },
      "outputs": [
        {
          "output_type": "stream",
          "name": "stdout",
          "text": [
            "Test Error = 0.230059\n"
          ]
        }
      ],
      "source": [
        "from pyspark.ml.evaluation import MulticlassClassificationEvaluator\n",
        "\n",
        "# Select (prediction, true label) and compute test error\n",
        "evaluator = MulticlassClassificationEvaluator(\n",
        "    labelCol=\"indexedLabel\", predictionCol=\"prediction\", metricName=\"accuracy\")\n",
        "accuracy = evaluator.evaluate(predictions)\n",
        "print(\"Test Error = %g\" % (1.0 - accuracy))"
      ]
    },
    {
      "cell_type": "code",
      "execution_count": null,
      "metadata": {
        "id": "M5GTNqBZl_fj"
      },
      "outputs": [],
      "source": [
        "import matplotlib.pyplot as plt\n",
        "import numpy as np\n",
        "import itertools\n",
        "\n",
        "def plot_confusion_matrix(cm, classes,\n",
        "                          normalize=False,\n",
        "                          title='Confusion matrix',\n",
        "                          cmap=plt.cm.Blues):\n",
        "    \"\"\"\n",
        "    This function prints and plots the confusion matrix.\n",
        "    Normalization can be applied by setting `normalize=True`.\n",
        "    \"\"\"\n",
        "    if normalize:\n",
        "        cm = cm.astype('float') / cm.sum(axis=1)[:, np.newaxis]\n",
        "        print(\"Normalized confusion matrix\")\n",
        "    else:\n",
        "        print('Confusion matrix, without normalization')\n",
        "\n",
        "    print(cm)\n",
        "\n",
        "    plt.imshow(cm, interpolation='nearest', cmap=cmap)\n",
        "    plt.title(title)\n",
        "    plt.colorbar()\n",
        "    tick_marks = np.arange(len(classes))\n",
        "    plt.xticks(tick_marks, classes, rotation=45)\n",
        "    plt.yticks(tick_marks, classes)\n",
        "\n",
        "    fmt = '.2f' if normalize else 'd'\n",
        "    thresh = cm.max() / 2.\n",
        "    for i, j in itertools.product(range(cm.shape[0]), range(cm.shape[1])):\n",
        "        plt.text(j, i, format(cm[i, j], fmt),\n",
        "                 horizontalalignment=\"center\",\n",
        "                 color=\"white\" if cm[i, j] > thresh else \"black\")\n",
        "\n",
        "    plt.tight_layout()\n",
        "    plt.ylabel('True label')\n",
        "    plt.xlabel('Predicted label')"
      ]
    },
    {
      "cell_type": "code",
      "execution_count": null,
      "metadata": {
        "id": "nAKWPmM2l_fk",
        "outputId": "842d0062-c566-4dbe-8d2b-e058a3fd88c1",
        "colab": {
          "base_uri": "https://localhost:8080/"
        }
      },
      "outputs": [
        {
          "output_type": "execute_result",
          "data": {
            "text/plain": [
              "['Moderate', 'Satisfactory', 'Poor', 'Good', 'Very Poor', 'Severe']"
            ]
          },
          "metadata": {},
          "execution_count": 39
        }
      ],
      "source": [
        "class_temp = predictions.select(\"label\").groupBy(\"label\")\\\n",
        "                        .count().sort('count', ascending=False).toPandas()\n",
        "class_temp = class_temp[\"label\"].values.tolist()\n",
        "class_temp"
      ]
    },
    {
      "cell_type": "code",
      "execution_count": null,
      "metadata": {
        "id": "UXIOma2wl_fk",
        "outputId": "6c511f47-35e0-4d81-c515-f8b79775eccd",
        "colab": {
          "base_uri": "https://localhost:8080/"
        }
      },
      "outputs": [
        {
          "output_type": "stream",
          "name": "stdout",
          "text": [
            "+--------------------+------------+------------+--------------------+--------------------+--------------------+----------+--------------+\n",
            "|            features|       label|indexedLabel|     indexedFeatures|       rawPrediction|         probability|prediction|predictedLabel|\n",
            "+--------------------+------------+------------+--------------------+--------------------+--------------------+----------+--------------+\n",
            "|[2.0,17.99,1.29,1...|        Good|         3.0|[2.0,17.99,1.29,1...|[0.24151765690502...|[0.01207588284525...|       3.0|          Good|\n",
            "|[7.0,7.8,1.7,7.66...|Satisfactory|         1.0|[7.0,7.8,1.7,7.66...|[0.99054556849496...|[0.04952727842474...|       3.0|          Good|\n",
            "|[7.3,32.25,3.85,6...|        Good|         3.0|[7.3,32.25,3.85,6...|[0.23577776525532...|[0.01178888826276...|       3.0|          Good|\n",
            "|[7.45,20.5,3.99,8...|Satisfactory|         1.0|[7.45,20.5,3.99,8...|[0.58030689062143...|[0.02901534453107...|       3.0|          Good|\n",
            "|[7.53,24.18,2.74,...|        Good|         3.0|[7.53,24.18,2.74,...|[0.26542531790854...|[0.01327126589542...|       3.0|          Good|\n",
            "+--------------------+------------+------------+--------------------+--------------------+--------------------+----------+--------------+\n",
            "only showing top 5 rows\n",
            "\n"
          ]
        }
      ],
      "source": [
        "predictions.show(5)"
      ]
    },
    {
      "cell_type": "code",
      "execution_count": null,
      "metadata": {
        "id": "VIoeKjKCl_fl",
        "outputId": "86c32535-88b4-4e9d-de0d-3e6f0d9d43f8",
        "colab": {
          "base_uri": "https://localhost:8080/"
        }
      },
      "outputs": [
        {
          "output_type": "execute_result",
          "data": {
            "text/plain": [
              "array([[414,  53,  18,   0,   1,   0],\n",
              "       [ 68, 340,   0,   7,   0,   0],\n",
              "       [ 32,   2,  62,   0,  23,   0],\n",
              "       [  0,  48,   0,  39,   0,   0],\n",
              "       [  0,   0,   9,   0,  50,   5],\n",
              "       [  1,   0,   0,   0,   7,  12]])"
            ]
          },
          "metadata": {},
          "execution_count": 41
        }
      ],
      "source": [
        "from sklearn.metrics import confusion_matrix\n",
        "y_true = predictions.select(\"label\")\n",
        "y_true = y_true.toPandas()\n",
        "\n",
        "y_pred = predictions.select(\"predictedLabel\")\n",
        "y_pred = y_pred.toPandas()\n",
        "\n",
        "cnf_matrix = confusion_matrix(y_true, y_pred,labels=class_temp)\n",
        "cnf_matrix"
      ]
    },
    {
      "cell_type": "code",
      "execution_count": null,
      "metadata": {
        "id": "R_5qXwtPl_fl",
        "outputId": "18a965cd-333b-4b7f-db7c-059e37141ebd",
        "colab": {
          "base_uri": "https://localhost:8080/",
          "height": 628
        }
      },
      "outputs": [
        {
          "output_type": "stream",
          "name": "stdout",
          "text": [
            "Confusion matrix, without normalization\n",
            "[[414  53  18   0   1   0]\n",
            " [ 68 340   0   7   0   0]\n",
            " [ 32   2  62   0  23   0]\n",
            " [  0  48   0  39   0   0]\n",
            " [  0   0   9   0  50   5]\n",
            " [  1   0   0   0   7  12]]\n"
          ]
        },
        {
          "output_type": "display_data",
          "data": {
            "text/plain": [
              "<Figure size 640x480 with 2 Axes>"
            ],
            "image/png": "[encoded data removed]"
          },
          "metadata": {}
        }
      ],
      "source": [
        "# Plot confusion matrix\n",
        "plt.figure()\n",
        "plot_confusion_matrix(cnf_matrix, classes=class_temp,\n",
        "                      title='Confusion matrix')\n",
        "plt.show()"
      ]
    },
    {
      "cell_type": "code",
      "execution_count": null,
      "metadata": {
        "id": "toD3w09ul_fl"
      },
      "outputs": [],
      "source": []
    },
    {
      "cell_type": "code",
      "source": [
        "pipeline = Pipeline(stages=[labelIndexer, featureIndexer, rf, labelConverter])\n",
        "\n",
        "# Define Hyperparameter Grid\n",
        "paramGrid = (ParamGridBuilder()\n",
        "    .addGrid(rf.numTrees, [10, 50, 100])  # Number of trees in forest\n",
        "    .addGrid(rf.maxDepth, [5, 10, 15])  # Depth of each tree\n",
        "    .addGrid(rf.maxBins, [32, 64])  # Number of bins for split calculations\n",
        "    .addGrid(rf.minInstancesPerNode, [1, 2, 5])  # Minimum instances per node\n",
        "    .build()\n",
        ")\n",
        "\n",
        "# Define Evaluator\n",
        "evaluator = MulticlassClassificationEvaluator(labelCol=\"indexedLabel\", metricName=\"accuracy\")\n",
        "\n",
        "# Cross Validator\n",
        "cv = CrossValidator(estimator=pipeline, estimatorParamMaps=paramGrid, evaluator=evaluator, numFolds=5)\n",
        "\n",
        "# Train Model with Cross Validation\n",
        "cvModel = cv.fit(trainingData)\n",
        "\n",
        "# Get Best Model\n",
        "bestModel = cvModel.bestModel\n",
        "print(\"Best Parameters Found:\")\n",
        "print(\"Best numTrees:\", bestModel.stages[2].getNumTrees)\n",
        "print(\"Best maxDepth:\", bestModel.stages[2].getMaxDepth)"
      ],
      "metadata": {
        "colab": {
          "base_uri": "https://localhost:8080/"
        },
        "id": "9GzQy3dG1pwy",
        "outputId": "fe535b2e-0a52-49a8-d752-5b83d9639197"
      },
      "execution_count": null,
      "outputs": [
        {
          "output_type": "stream",
          "name": "stdout",
          "text": [
            "Best Parameters Found:\n",
            "Best numTrees: 100\n",
            "Best maxDepth: <bound method _DecisionTreeParams.getMaxDepth of RandomForestClassificationModel: uid=RandomForestClassifier_e95fce73af7d, numTrees=100, numClasses=6, numFeatures=12>\n"
          ]
        }
      ]
    },
    {
      "cell_type": "code",
      "source": [
        "predictions = bestModel.transform(testData)\n",
        "# Select example rows to display.\n",
        "predictions.select(\"features\",\"label\",\"predictedLabel\").show(5)"
      ],
      "metadata": {
        "colab": {
          "base_uri": "https://localhost:8080/"
        },
        "id": "gx1A0U-O6CUW",
        "outputId": "15bc7682-6549-401d-9693-8081eb3dc8a7"
      },
      "execution_count": null,
      "outputs": [
        {
          "output_type": "stream",
          "name": "stdout",
          "text": [
            "+--------------------+------------+--------------+\n",
            "|            features|       label|predictedLabel|\n",
            "+--------------------+------------+--------------+\n",
            "|[2.0,17.99,1.29,1...|        Good|          Good|\n",
            "|[7.0,7.8,1.7,7.66...|Satisfactory|  Satisfactory|\n",
            "|[7.3,32.25,3.85,6...|        Good|          Good|\n",
            "|[7.45,20.5,3.99,8...|Satisfactory|  Satisfactory|\n",
            "|[7.53,24.18,2.74,...|        Good|          Good|\n",
            "+--------------------+------------+--------------+\n",
            "only showing top 5 rows\n",
            "\n"
          ]
        }
      ]
    },
    {
      "cell_type": "code",
      "source": [
        "evaluator = MulticlassClassificationEvaluator(\n",
        "    labelCol=\"indexedLabel\", predictionCol=\"prediction\", metricName=\"accuracy\")\n",
        "accuracy = evaluator.evaluate(predictions)\n",
        "print(\"Test Error = %g\" % (1.0 - accuracy))"
      ],
      "metadata": {
        "colab": {
          "base_uri": "https://localhost:8080/"
        },
        "id": "Bb6gY4CnD96F",
        "outputId": "9417f695-7872-409b-e9c8-2c1c6b7c34f7"
      },
      "execution_count": null,
      "outputs": [
        {
          "output_type": "stream",
          "name": "stdout",
          "text": [
            "Test Error = 0.178002\n"
          ]
        }
      ]
    },
    {
      "cell_type": "code",
      "source": [
        "from sklearn.metrics import confusion_matrix\n",
        "y_true = predictions.select(\"label\")\n",
        "y_true = y_true.toPandas()\n",
        "\n",
        "y_pred = predictions.select(\"predictedLabel\")\n",
        "y_pred = y_pred.toPandas()\n",
        "\n",
        "cnf_matrix = confusion_matrix(y_true, y_pred,labels=class_temp)\n",
        "cnf_matrix"
      ],
      "metadata": {
        "colab": {
          "base_uri": "https://localhost:8080/"
        },
        "id": "EsIx6Uv8EIDo",
        "outputId": "33a0019e-4f68-48c2-a405-ca40019808fd"
      },
      "execution_count": null,
      "outputs": [
        {
          "output_type": "execute_result",
          "data": {
            "text/plain": [
              "array([[422,  41,  23,   0,   0,   0],\n",
              "       [ 62, 341,   0,  12,   0,   0],\n",
              "       [ 19,   1,  87,   0,  12,   0],\n",
              "       [  0,  22,   0,  65,   0,   0],\n",
              "       [  0,   0,  11,   0,  50,   3],\n",
              "       [  1,   0,   0,   0,   5,  14]])"
            ]
          },
          "metadata": {},
          "execution_count": 73
        }
      ]
    },
    {
      "cell_type": "code",
      "source": [
        "# Plot confusion matrix\n",
        "plt.figure()\n",
        "plot_confusion_matrix(cnf_matrix, classes=class_temp,\n",
        "                      title='Confusion matrix')\n",
        "plt.show()"
      ],
      "metadata": {
        "colab": {
          "base_uri": "https://localhost:8080/",
          "height": 628
        },
        "id": "BCB55807EReZ",
        "outputId": "e2dc21f9-5c1b-4938-93b6-8ae2d58a4465"
      },
      "execution_count": null,
      "outputs": [
        {
          "output_type": "stream",
          "name": "stdout",
          "text": [
            "Confusion matrix, without normalization\n",
            "[[422  41  23   0   0   0]\n",
            " [ 62 341   0  12   0   0]\n",
            " [ 19   1  87   0  12   0]\n",
            " [  0  22   0  65   0   0]\n",
            " [  0   0  11   0  50   3]\n",
            " [  1   0   0   0   5  14]]\n"
          ]
        },
        {
          "output_type": "display_data",
          "data": {
            "text/plain": [
              "<Figure size 640x480 with 2 Axes>"
            ],
            "image/png": "[encoded data removed]"
          },
          "metadata": {}
        }
      ]
    },
    {
      "cell_type": "code",
      "source": [],
      "metadata": {
        "id": "qR2Hw6hfEV2-"
      },
      "execution_count": null,
      "outputs": []
    }
  ],
  "metadata": {
    "kernelspec": {
      "display_name": "Python 3",
      "language": "python",
      "name": "python3"
    },
    "language_info": {
      "codemirror_mode": {
        "name": "ipython",
        "version": 3
      },
      "file_extension": ".py",
      "mimetype": "text/x-python",
      "name": "python",
      "nbconvert_exporter": "python",
      "pygments_lexer": "ipython3",
      "version": "3.8.5"
    },
    "colab": {
      "provenance": []
    }
  },
  "nbformat": 4,
  "nbformat_minor": 0
}